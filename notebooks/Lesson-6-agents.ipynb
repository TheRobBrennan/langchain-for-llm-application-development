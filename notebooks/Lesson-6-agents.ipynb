{
 "cells": [
  {
   "cell_type": "markdown",
   "metadata": {},
   "source": [
    "# LangChain: Agents"
   ]
  },
  {
   "cell_type": "markdown",
   "metadata": {},
   "source": [
    "Create an OpenAI API key for this project at [https://platform.openai.com/account/api-keys](https://platform.openai.com/account/api-keys). \n",
    "\n",
    "Copy `.env.sample` to `.env` and replace `<YOUR_OPENAI_API_KEY>` with the one you created.\n",
    "\n",
    "Let's get started!"
   ]
  },
  {
   "cell_type": "markdown",
   "metadata": {},
   "source": [
    "## Connect to OpenAI and define our model"
   ]
  },
  {
   "cell_type": "markdown",
   "metadata": {},
   "source": [
    "Let's make sure that we can read our OpenAI key from the `.env` file we created."
   ]
  },
  {
   "cell_type": "code",
   "execution_count": null,
   "metadata": {},
   "outputs": [],
   "source": [
    "import os\n",
    "\n",
    "from dotenv import load_dotenv, find_dotenv\n",
    "_ = load_dotenv(find_dotenv()) # read local .env file\n",
    "\n",
    "import warnings\n",
    "warnings.filterwarnings('ignore')"
   ]
  },
  {
   "cell_type": "code",
   "execution_count": null,
   "metadata": {},
   "outputs": [],
   "source": [
    "# Specify our model\n",
    "llm_model=\"gpt-3.5-turbo-1106\""
   ]
  },
  {
   "cell_type": "markdown",
   "metadata": {},
   "source": [
    "## Built-in LangChain tools"
   ]
  },
  {
   "cell_type": "markdown",
   "metadata": {},
   "source": [
    "Before we begin, let's install the following dependencies from the command-line of our Python virtual environment:\n",
    "\n",
    "```sh\n",
    "(.venv) % pip install -U wikipedia\n",
    "(.venv) % pip freeze > requirements.txt\n",
    "```"
   ]
  },
  {
   "cell_type": "code",
   "execution_count": null,
   "metadata": {},
   "outputs": [],
   "source": [
    "# TODO: This doesn't work with the upgraded versions of langchain and its dependencies\n",
    "# from langchain.agents.agent_toolkits import create_python_agent\n",
    "# from langchain.agents import load_tools, initialize_agent, AgentType\n",
    "# from langchain.tools.python.tool import PythonREPLTool\n",
    "# from langchain.python import PythonREPL\n",
    "# from langchain.chat_models import ChatOpenAI\n",
    "\n",
    "# llm = ChatOpenAI(temperature=0, model=llm_model)\n",
    "\n",
    "# tools = load_tools([\"llm-math\",\"wikipedia\"], llm=llm)\n",
    "\n",
    "# agent= initialize_agent(\n",
    "#     tools, \n",
    "#     llm, \n",
    "#     agent=AgentType.CHAT_ZERO_SHOT_REACT_DESCRIPTION,\n",
    "#     handle_parsing_errors=True,\n",
    "#     verbose = True)\n",
    "\n",
    "# agent(\"What is the 25% of 300?\")"
   ]
  },
  {
   "cell_type": "markdown",
   "metadata": {},
   "source": [
    "## Wikipedia example"
   ]
  },
  {
   "cell_type": "code",
   "execution_count": null,
   "metadata": {},
   "outputs": [],
   "source": [
    "# TODO: This doesn't work with the upgraded versions of langchain and its dependencies\n",
    "# question = \"Tom M. Mitchell is an American computer scientist \\\n",
    "# and the Founders University Professor at Carnegie Mellon University (CMU)\\\n",
    "# what book did he write?\"\n",
    "# result = agent(question)"
   ]
  },
  {
   "cell_type": "markdown",
   "metadata": {},
   "source": [
    "## Python Agent"
   ]
  },
  {
   "cell_type": "code",
   "execution_count": null,
   "metadata": {},
   "outputs": [],
   "source": [
    "# TODO: This doesn't work with the upgraded versions of langchain and its dependencies\n",
    "# agent = create_python_agent(\n",
    "#     llm,\n",
    "#     tool=PythonREPLTool(),\n",
    "#     verbose=True\n",
    "# )\n",
    "\n",
    "# customer_list = [[\"Harrison\", \"Chase\"], \n",
    "#                  [\"Lang\", \"Chain\"],\n",
    "#                  [\"Dolly\", \"Too\"],\n",
    "#                  [\"Elle\", \"Elem\"], \n",
    "#                  [\"Geoff\",\"Fusion\"], \n",
    "#                  [\"Trance\",\"Former\"],\n",
    "#                  [\"Jen\",\"Ayai\"]\n",
    "#                 ]\n",
    "\n",
    "# agent.run(f\"\"\"Sort these customers by \\\n",
    "# last name and then first name \\\n",
    "# and print the output: {customer_list}\"\"\") "
   ]
  },
  {
   "cell_type": "markdown",
   "metadata": {},
   "source": [
    "### View detailed outputs of the chains"
   ]
  },
  {
   "cell_type": "code",
   "execution_count": null,
   "metadata": {},
   "outputs": [],
   "source": [
    "# TODO: This doesn't work with the upgraded versions of langchain and its dependencies\n",
    "# import langchain\n",
    "# langchain.debug=True\n",
    "# agent.run(f\"\"\"Sort these customers by \\\n",
    "# last name and then first name \\\n",
    "# and print the output: {customer_list}\"\"\") \n",
    "# langchain.debug=False\n"
   ]
  },
  {
   "cell_type": "markdown",
   "metadata": {},
   "source": [
    "## Define your own tool"
   ]
  },
  {
   "cell_type": "markdown",
   "metadata": {},
   "source": [
    "Before we begin, let's install the following dependencies from the command-line of our Python virtual environment:\n",
    "\n",
    "```sh\n",
    "(.venv) % pip install DateTime\n",
    "(.venv) % pip freeze > requirements.txt\n",
    "```"
   ]
  },
  {
   "cell_type": "code",
   "execution_count": null,
   "metadata": {},
   "outputs": [],
   "source": [
    "# TODO: This doesn't work with the upgraded versions of langchain and its dependencies\n",
    "# from langchain.agents import tool\n",
    "# from datetime import date\n"
   ]
  },
  {
   "cell_type": "code",
   "execution_count": null,
   "metadata": {},
   "outputs": [],
   "source": [
    "# TODO: This doesn't work with the upgraded versions of langchain and its dependencies\n",
    "# @tool\n",
    "# def time(text: str) -> str:\n",
    "#     \"\"\"Returns todays date, use this for any \\\n",
    "#     questions related to knowing todays date. \\\n",
    "#     The input should always be an empty string, \\\n",
    "#     and this function will always return todays \\\n",
    "#     date - any date mathmatics should occur \\\n",
    "#     outside this function.\"\"\"\n",
    "#     return str(date.today())"
   ]
  },
  {
   "cell_type": "code",
   "execution_count": null,
   "metadata": {},
   "outputs": [],
   "source": [
    "# TODO: This doesn't work with the upgraded versions of langchain and its dependencies\n",
    "# agent= initialize_agent(\n",
    "#     tools + [time], \n",
    "#     llm, \n",
    "#     agent=AgentType.CHAT_ZERO_SHOT_REACT_DESCRIPTION,\n",
    "#     handle_parsing_errors=True,\n",
    "#     verbose = True)\n"
   ]
  },
  {
   "cell_type": "markdown",
   "metadata": {},
   "source": [
    "The agent will sometimes come to the wrong conclusion (agents are a work in progress!).\n",
    "\n",
    "If it does, please try running it again."
   ]
  },
  {
   "cell_type": "code",
   "execution_count": null,
   "metadata": {},
   "outputs": [],
   "source": [
    "# TODO: This doesn't work with the upgraded versions of langchain and its dependencies\n",
    "# try:\n",
    "#     result = agent(\"whats the date today?\") \n",
    "# except: \n",
    "#     print(\"exception on external access\")"
   ]
  }
 ],
 "metadata": {
  "kernelspec": {
   "display_name": ".venv",
   "language": "python",
   "name": "python3"
  },
  "language_info": {
   "codemirror_mode": {
    "name": "ipython",
    "version": 3
   },
   "file_extension": ".py",
   "mimetype": "text/x-python",
   "name": "python",
   "nbconvert_exporter": "python",
   "pygments_lexer": "ipython3",
   "version": "3.11.1"
  }
 },
 "nbformat": 4,
 "nbformat_minor": 2
}
